{
 "cells": [
  {
   "cell_type": "markdown",
   "metadata": {},
   "source": [
    "# Der Bokeh Plot wird erzeugt und dann als HTML-Code erzeugt.\n",
    "# Dieser Code wurde dann auf der TDUPB \"Github Pages\" eingebunden: https://tdupb.github.io/bokeh_text.html"
   ]
  },
  {
   "cell_type": "code",
   "execution_count": 3,
   "metadata": {},
   "outputs": [],
   "source": [
    "from bokeh.plotting import figure\n",
    "from bokeh.resources import CDN\n",
    "from bokeh.embed import file_html\n",
    "\n",
    "plot = figure()\n",
    "plot.circle([1,2], [3,4])\n",
    "\n",
    "html = file_html(plot, CDN, \"my plot\")"
   ]
  },
  {
   "cell_type": "code",
   "execution_count": 4,
   "metadata": {},
   "outputs": [
    {
     "name": "stdout",
     "output_type": "stream",
     "text": [
      "\n",
      "\n",
      "\n",
      "\n",
      "<!DOCTYPE html>\n",
      "<html lang=\"en\">\n",
      "  \n",
      "  <head>\n",
      "    \n",
      "      <meta charset=\"utf-8\">\n",
      "      <title>my plot</title>\n",
      "      \n",
      "      \n",
      "        \n",
      "          \n",
      "        \n",
      "        \n",
      "          \n",
      "        <script type=\"text/javascript\" src=\"https://cdn.pydata.org/bokeh/release/bokeh-1.3.4.min.js\"></script>\n",
      "        <script type=\"text/javascript\">\n",
      "            Bokeh.set_log_level(\"info\");\n",
      "        </script>\n",
      "        \n",
      "      \n",
      "      \n",
      "    \n",
      "  </head>\n",
      "  \n",
      "  \n",
      "  <body>\n",
      "    \n",
      "      \n",
      "        \n",
      "          \n",
      "          \n",
      "            \n",
      "              <div class=\"bk-root\" id=\"e08e53e3-1927-46e7-9f67-0ae0121f6cef\" data-root-id=\"1120\"></div>\n",
      "            \n",
      "          \n",
      "        \n",
      "      \n",
      "      \n",
      "        <script type=\"application/json\" id=\"1238\">\n",
      "          {\"ba434ff7-cf62-49ea-87d3-3cade8be7dea\":{\"roots\":{\"references\":[{\"attributes\":{\"callback\":null},\"id\":\"1121\",\"type\":\"DataRange1d\"},{\"attributes\":{},\"id\":\"1161\",\"type\":\"BasicTickFormatter\"},{\"attributes\":{\"callback\":null},\"id\":\"1123\",\"type\":\"DataRange1d\"},{\"attributes\":{},\"id\":\"1144\",\"type\":\"HelpTool\"},{\"attributes\":{\"fill_alpha\":{\"value\":0.1},\"fill_color\":{\"value\":\"#1f77b4\"},\"line_alpha\":{\"value\":0.1},\"line_color\":{\"value\":\"#1f77b4\"},\"x\":{\"field\":\"x\"},\"y\":{\"field\":\"y\"}},\"id\":\"1154\",\"type\":\"Circle\"},{\"attributes\":{\"data_source\":{\"id\":\"1152\",\"type\":\"ColumnDataSource\"},\"glyph\":{\"id\":\"1153\",\"type\":\"Circle\"},\"hover_glyph\":null,\"muted_glyph\":null,\"nonselection_glyph\":{\"id\":\"1154\",\"type\":\"Circle\"},\"selection_glyph\":null,\"view\":{\"id\":\"1156\",\"type\":\"CDSView\"}},\"id\":\"1155\",\"type\":\"GlyphRenderer\"},{\"attributes\":{},\"id\":\"1165\",\"type\":\"UnionRenderers\"},{\"attributes\":{\"callback\":null,\"data\":{\"x\":[1,2],\"y\":[3,4]},\"selected\":{\"id\":\"1164\",\"type\":\"Selection\"},\"selection_policy\":{\"id\":\"1165\",\"type\":\"UnionRenderers\"}},\"id\":\"1152\",\"type\":\"ColumnDataSource\"},{\"attributes\":{},\"id\":\"1125\",\"type\":\"LinearScale\"},{\"attributes\":{},\"id\":\"1143\",\"type\":\"ResetTool\"},{\"attributes\":{},\"id\":\"1164\",\"type\":\"Selection\"},{\"attributes\":{},\"id\":\"1139\",\"type\":\"PanTool\"},{\"attributes\":{\"ticker\":{\"id\":\"1130\",\"type\":\"BasicTicker\"}},\"id\":\"1133\",\"type\":\"Grid\"},{\"attributes\":{},\"id\":\"1135\",\"type\":\"BasicTicker\"},{\"attributes\":{\"formatter\":{\"id\":\"1161\",\"type\":\"BasicTickFormatter\"},\"ticker\":{\"id\":\"1130\",\"type\":\"BasicTicker\"}},\"id\":\"1129\",\"type\":\"LinearAxis\"},{\"attributes\":{\"overlay\":{\"id\":\"1163\",\"type\":\"BoxAnnotation\"}},\"id\":\"1141\",\"type\":\"BoxZoomTool\"},{\"attributes\":{\"formatter\":{\"id\":\"1159\",\"type\":\"BasicTickFormatter\"},\"ticker\":{\"id\":\"1135\",\"type\":\"BasicTicker\"}},\"id\":\"1134\",\"type\":\"LinearAxis\"},{\"attributes\":{\"bottom_units\":\"screen\",\"fill_alpha\":{\"value\":0.5},\"fill_color\":{\"value\":\"lightgrey\"},\"left_units\":\"screen\",\"level\":\"overlay\",\"line_alpha\":{\"value\":1.0},\"line_color\":{\"value\":\"black\"},\"line_dash\":[4,4],\"line_width\":{\"value\":2},\"render_mode\":\"css\",\"right_units\":\"screen\",\"top_units\":\"screen\"},\"id\":\"1163\",\"type\":\"BoxAnnotation\"},{\"attributes\":{\"dimension\":1,\"ticker\":{\"id\":\"1135\",\"type\":\"BasicTicker\"}},\"id\":\"1138\",\"type\":\"Grid\"},{\"attributes\":{},\"id\":\"1130\",\"type\":\"BasicTicker\"},{\"attributes\":{\"source\":{\"id\":\"1152\",\"type\":\"ColumnDataSource\"}},\"id\":\"1156\",\"type\":\"CDSView\"},{\"attributes\":{\"below\":[{\"id\":\"1129\",\"type\":\"LinearAxis\"}],\"center\":[{\"id\":\"1133\",\"type\":\"Grid\"},{\"id\":\"1138\",\"type\":\"Grid\"}],\"left\":[{\"id\":\"1134\",\"type\":\"LinearAxis\"}],\"renderers\":[{\"id\":\"1155\",\"type\":\"GlyphRenderer\"}],\"title\":{\"id\":\"1158\",\"type\":\"Title\"},\"toolbar\":{\"id\":\"1145\",\"type\":\"Toolbar\"},\"x_range\":{\"id\":\"1121\",\"type\":\"DataRange1d\"},\"x_scale\":{\"id\":\"1125\",\"type\":\"LinearScale\"},\"y_range\":{\"id\":\"1123\",\"type\":\"DataRange1d\"},\"y_scale\":{\"id\":\"1127\",\"type\":\"LinearScale\"}},\"id\":\"1120\",\"subtype\":\"Figure\",\"type\":\"Plot\"},{\"attributes\":{},\"id\":\"1140\",\"type\":\"WheelZoomTool\"},{\"attributes\":{\"active_drag\":\"auto\",\"active_inspect\":\"auto\",\"active_multi\":null,\"active_scroll\":\"auto\",\"active_tap\":\"auto\",\"tools\":[{\"id\":\"1139\",\"type\":\"PanTool\"},{\"id\":\"1140\",\"type\":\"WheelZoomTool\"},{\"id\":\"1141\",\"type\":\"BoxZoomTool\"},{\"id\":\"1142\",\"type\":\"SaveTool\"},{\"id\":\"1143\",\"type\":\"ResetTool\"},{\"id\":\"1144\",\"type\":\"HelpTool\"}]},\"id\":\"1145\",\"type\":\"Toolbar\"},{\"attributes\":{},\"id\":\"1127\",\"type\":\"LinearScale\"},{\"attributes\":{},\"id\":\"1159\",\"type\":\"BasicTickFormatter\"},{\"attributes\":{\"fill_color\":{\"value\":\"#1f77b4\"},\"line_color\":{\"value\":\"#1f77b4\"},\"x\":{\"field\":\"x\"},\"y\":{\"field\":\"y\"}},\"id\":\"1153\",\"type\":\"Circle\"},{\"attributes\":{\"text\":\"\"},\"id\":\"1158\",\"type\":\"Title\"},{\"attributes\":{},\"id\":\"1142\",\"type\":\"SaveTool\"}],\"root_ids\":[\"1120\"]},\"title\":\"Bokeh Application\",\"version\":\"1.3.4\"}}\n",
      "        </script>\n",
      "        <script type=\"text/javascript\">\n",
      "          (function() {\n",
      "            var fn = function() {\n",
      "              Bokeh.safely(function() {\n",
      "                (function(root) {\n",
      "                  function embed_document(root) {\n",
      "                    \n",
      "                  var docs_json = document.getElementById('1238').textContent;\n",
      "                  var render_items = [{\"docid\":\"ba434ff7-cf62-49ea-87d3-3cade8be7dea\",\"roots\":{\"1120\":\"e08e53e3-1927-46e7-9f67-0ae0121f6cef\"}}];\n",
      "                  root.Bokeh.embed.embed_items(docs_json, render_items);\n",
      "                \n",
      "                  }\n",
      "                  if (root.Bokeh !== undefined) {\n",
      "                    embed_document(root);\n",
      "                  } else {\n",
      "                    var attempts = 0;\n",
      "                    var timer = setInterval(function(root) {\n",
      "                      if (root.Bokeh !== undefined) {\n",
      "                        embed_document(root);\n",
      "                        clearInterval(timer);\n",
      "                      }\n",
      "                      attempts++;\n",
      "                      if (attempts > 100) {\n",
      "                        console.log(\"Bokeh: ERROR: Unable to run BokehJS code because BokehJS library is missing\");\n",
      "                        clearInterval(timer);\n",
      "                      }\n",
      "                    }, 10, root)\n",
      "                  }\n",
      "                })(window);\n",
      "              });\n",
      "            };\n",
      "            if (document.readyState != \"loading\") fn();\n",
      "            else document.addEventListener(\"DOMContentLoaded\", fn);\n",
      "          })();\n",
      "        </script>\n",
      "    \n",
      "  </body>\n",
      "  \n",
      "</html>\n"
     ]
    }
   ],
   "source": [
    "print (html)"
   ]
  },
  {
   "cell_type": "code",
   "execution_count": null,
   "metadata": {},
   "outputs": [],
   "source": []
  }
 ],
 "metadata": {
  "kernelspec": {
   "display_name": "Python 3",
   "language": "python",
   "name": "python3"
  },
  "language_info": {
   "codemirror_mode": {
    "name": "ipython",
    "version": 3
   },
   "file_extension": ".py",
   "mimetype": "text/x-python",
   "name": "python",
   "nbconvert_exporter": "python",
   "pygments_lexer": "ipython3",
   "version": "3.7.4"
  }
 },
 "nbformat": 4,
 "nbformat_minor": 2
}
